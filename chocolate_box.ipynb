{
  "nbformat": 4,
  "nbformat_minor": 0,
  "metadata": {
    "colab": {
      "name": "chocolate_box",
      "provenance": []
    },
    "kernelspec": {
      "name": "python3",
      "display_name": "Python 3"
    },
    "language_info": {
      "name": "python"
    }
  },
  "cells": [
    {
      "cell_type": "code",
      "metadata": {
        "colab": {
          "base_uri": "https://localhost:8080/"
        },
        "id": "ppKAXZeV3G15",
        "outputId": "85e7cb7d-f7cb-4614-ac8f-e9fc4fe282c6"
      },
      "source": [
        "def chocolate_distr(c, s):\n",
        "  c.sort() # ordena a lista de caixas\n",
        "  min_dif = max(c) - min(c) # pegando a maior diferença\n",
        "  for i in range(len(c)-s+1): # p/ percorrer a lista\n",
        "    dif = c[i + s-1] - c[i] #diferença entre maior e menor da sublista\n",
        "    print('Dif. cx com', c[i + s-1], 'chocs. e cx com', c[i], 'chocs.' ,'=', dif) \n",
        "    min_dif = min(min_dif, dif) #atualiza a menor diferença\n",
        "  return min_dif\n",
        "\n",
        "#==== exemplo 1 ======\n",
        "chocolate_box = [5, 7, 2, 8, 4, 3] # cxs de chocolate\n",
        "students = 3 # qtde de estudantes\n",
        "#==== exemplo 2 ======\n",
        "#chocolate_bars = [2, 14, 11, 12, 17]\n",
        "#students = 4\n",
        "\n",
        "print('Menor diferença:',chocolate_distr(chocolate_box, students))\n"
      ],
      "execution_count": null,
      "outputs": [
        {
          "output_type": "stream",
          "name": "stdout",
          "text": [
            "Dif. cx com 4 chocs. e cx com 2 chocs. = 2\n",
            "Dif. cx com 5 chocs. e cx com 3 chocs. = 2\n",
            "Dif. cx com 7 chocs. e cx com 4 chocs. = 3\n",
            "Dif. cx com 8 chocs. e cx com 5 chocs. = 3\n",
            "Menor diferença: 2\n"
          ]
        }
      ]
    }
  ]
}